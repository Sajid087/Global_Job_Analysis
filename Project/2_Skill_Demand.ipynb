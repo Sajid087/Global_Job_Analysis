{
 "cells": [
  {
   "cell_type": "markdown",
   "id": "e2276333",
   "metadata": {},
   "source": [
    "<a target=\"_blank\" href=\"https://colab.research.google.com/github/lukebarousse/Python_Data_Analytics_Course/blob/main/3_Project/2_Skill_Demand.ipynb\">\n",
    "  <img src=\"https://colab.research.google.com/assets/colab-badge.svg\" alt=\"Open In Colab\"/>\n",
    "</a>"
   ]
  },
  {
   "cell_type": "markdown",
   "metadata": {},
   "source": [
    "# What are the most demanded skills for the top 3 most popular data roles?\n",
    "\n",
    "#### Methodology\n",
    "1. Clean-up skill column\n",
    "2. Calculate skill count based on `job_title_short`\n",
    "3. Calculate skill percentage\n",
    "4. Plot final findings"
   ]
  },
  {
   "cell_type": "markdown",
   "metadata": {},
   "source": [
    "## Import Libraries and Data"
   ]
  },
  {
   "cell_type": "code",
   "execution_count": 1,
   "metadata": {},
   "outputs": [],
   "source": [
    "# Importing Libraries\n",
    "import ast\n",
    "import pandas as pd\n",
    "import seaborn as sns\n",
    "from datasets import load_dataset\n",
    "import matplotlib.pyplot as plt  \n",
    "\n",
    "# Loading Data\n",
    "dataset = load_dataset('lukebarousse/data_jobs')\n",
    "df = dataset['train'].to_pandas()\n",
    "\n",
    "# Data Cleanup\n",
    "df['job_posted_date'] = pd.to_datetime(df['job_posted_date'])\n",
    "df['job_skills'] = df['job_skills'].apply(lambda x: ast.literal_eval(x) if pd.notna(x) else x)"
   ]
  },
  {
   "cell_type": "markdown",
   "metadata": {},
   "source": [
    "## Filter Data for India\n",
    "\n",
    "Filter the data for the market of India."
   ]
  },
  {
   "cell_type": "code",
   "execution_count": 2,
   "metadata": {},
   "outputs": [],
   "source": [
    "df_IN = df[df['job_country'] == 'India']"
   ]
  },
  {
   "cell_type": "markdown",
   "metadata": {},
   "source": [
    "## Explode Skills"
   ]
  },
  {
   "cell_type": "markdown",
   "metadata": {},
   "source": [
    "Converts the `job_skills` column from string representations of lists into actual list objects and then expands these lists so each skill appears in its own row. It then displays the `job_title` and `job_skills` columns, allowing us to analyze the distribution of skills across different data job titles."
   ]
  },
  {
   "cell_type": "code",
   "execution_count": 3,
   "metadata": {},
   "outputs": [
    {
     "data": {
      "text/html": [
       "<div>\n",
       "<style scoped>\n",
       "    .dataframe tbody tr th:only-of-type {\n",
       "        vertical-align: middle;\n",
       "    }\n",
       "\n",
       "    .dataframe tbody tr th {\n",
       "        vertical-align: top;\n",
       "    }\n",
       "\n",
       "    .dataframe thead th {\n",
       "        text-align: right;\n",
       "    }\n",
       "</style>\n",
       "<table border=\"1\" class=\"dataframe\">\n",
       "  <thead>\n",
       "    <tr style=\"text-align: right;\">\n",
       "      <th></th>\n",
       "      <th>job_title</th>\n",
       "      <th>job_skills</th>\n",
       "    </tr>\n",
       "  </thead>\n",
       "  <tbody>\n",
       "    <tr>\n",
       "      <th>16</th>\n",
       "      <td>Big Data Engineer</td>\n",
       "      <td>powershell</td>\n",
       "    </tr>\n",
       "    <tr>\n",
       "      <th>16</th>\n",
       "      <td>Big Data Engineer</td>\n",
       "      <td>python</td>\n",
       "    </tr>\n",
       "    <tr>\n",
       "      <th>16</th>\n",
       "      <td>Big Data Engineer</td>\n",
       "      <td>sql</td>\n",
       "    </tr>\n",
       "    <tr>\n",
       "      <th>16</th>\n",
       "      <td>Big Data Engineer</td>\n",
       "      <td>mysql</td>\n",
       "    </tr>\n",
       "    <tr>\n",
       "      <th>16</th>\n",
       "      <td>Big Data Engineer</td>\n",
       "      <td>sql server</td>\n",
       "    </tr>\n",
       "    <tr>\n",
       "      <th>...</th>\n",
       "      <td>...</td>\n",
       "      <td>...</td>\n",
       "    </tr>\n",
       "    <tr>\n",
       "      <th>785716</th>\n",
       "      <td>Application Support Analyst</td>\n",
       "      <td>c#</td>\n",
       "    </tr>\n",
       "    <tr>\n",
       "      <th>785716</th>\n",
       "      <td>Application Support Analyst</td>\n",
       "      <td>sql</td>\n",
       "    </tr>\n",
       "    <tr>\n",
       "      <th>785718</th>\n",
       "      <td>Senior Performance QA Analyst</td>\n",
       "      <td>None</td>\n",
       "    </tr>\n",
       "    <tr>\n",
       "      <th>785740</th>\n",
       "      <td>AWS System Analyst</td>\n",
       "      <td>aws</td>\n",
       "    </tr>\n",
       "    <tr>\n",
       "      <th>785740</th>\n",
       "      <td>AWS System Analyst</td>\n",
       "      <td>flow</td>\n",
       "    </tr>\n",
       "  </tbody>\n",
       "</table>\n",
       "<p>297707 rows × 2 columns</p>\n",
       "</div>"
      ],
      "text/plain": [
       "                            job_title  job_skills\n",
       "16                  Big Data Engineer  powershell\n",
       "16                  Big Data Engineer      python\n",
       "16                  Big Data Engineer         sql\n",
       "16                  Big Data Engineer       mysql\n",
       "16                  Big Data Engineer  sql server\n",
       "...                               ...         ...\n",
       "785716    Application Support Analyst          c#\n",
       "785716    Application Support Analyst         sql\n",
       "785718  Senior Performance QA Analyst        None\n",
       "785740             AWS System Analyst         aws\n",
       "785740             AWS System Analyst        flow\n",
       "\n",
       "[297707 rows x 2 columns]"
      ]
     },
     "execution_count": 3,
     "metadata": {},
     "output_type": "execute_result"
    }
   ],
   "source": [
    "df_skills = df_IN.explode('job_skills')\n",
    "\n",
    "df_skills[['job_title', 'job_skills']]"
   ]
  },
  {
   "cell_type": "markdown",
   "metadata": {},
   "source": [
    "## Count Skills per Job Title\n",
    "\n",
    "Groups DataFrame by `job_skills` and `job_title_short`, counting the occurrences of each skill within each job title. Then resets the index of the Series to turn it back into a DataFrame and renames the series holding the count to 'count'. The final DataFrame, `df_skills_count`, shows the frequency of each skill with each job title."
   ]
  },
  {
   "cell_type": "code",
   "execution_count": 4,
   "metadata": {},
   "outputs": [
    {
     "data": {
      "text/html": [
       "<div>\n",
       "<style scoped>\n",
       "    .dataframe tbody tr th:only-of-type {\n",
       "        vertical-align: middle;\n",
       "    }\n",
       "\n",
       "    .dataframe tbody tr th {\n",
       "        vertical-align: top;\n",
       "    }\n",
       "\n",
       "    .dataframe thead th {\n",
       "        text-align: right;\n",
       "    }\n",
       "</style>\n",
       "<table border=\"1\" class=\"dataframe\">\n",
       "  <thead>\n",
       "    <tr style=\"text-align: right;\">\n",
       "      <th></th>\n",
       "      <th>job_skills</th>\n",
       "      <th>job_title_short</th>\n",
       "      <th>skill_count</th>\n",
       "    </tr>\n",
       "  </thead>\n",
       "  <tbody>\n",
       "    <tr>\n",
       "      <th>1374</th>\n",
       "      <td>sql</td>\n",
       "      <td>Data Engineer</td>\n",
       "      <td>12993</td>\n",
       "    </tr>\n",
       "    <tr>\n",
       "      <th>1088</th>\n",
       "      <td>python</td>\n",
       "      <td>Data Engineer</td>\n",
       "      <td>11568</td>\n",
       "    </tr>\n",
       "    <tr>\n",
       "      <th>1089</th>\n",
       "      <td>python</td>\n",
       "      <td>Data Scientist</td>\n",
       "      <td>9248</td>\n",
       "    </tr>\n",
       "    <tr>\n",
       "      <th>1327</th>\n",
       "      <td>spark</td>\n",
       "      <td>Data Engineer</td>\n",
       "      <td>7157</td>\n",
       "    </tr>\n",
       "    <tr>\n",
       "      <th>103</th>\n",
       "      <td>aws</td>\n",
       "      <td>Data Engineer</td>\n",
       "      <td>6993</td>\n",
       "    </tr>\n",
       "    <tr>\n",
       "      <th>...</th>\n",
       "      <td>...</td>\n",
       "      <td>...</td>\n",
       "      <td>...</td>\n",
       "    </tr>\n",
       "    <tr>\n",
       "      <th>389</th>\n",
       "      <td>esquisse</td>\n",
       "      <td>Data Scientist</td>\n",
       "      <td>1</td>\n",
       "    </tr>\n",
       "    <tr>\n",
       "      <th>887</th>\n",
       "      <td>node.js</td>\n",
       "      <td>Senior Data Analyst</td>\n",
       "      <td>1</td>\n",
       "    </tr>\n",
       "    <tr>\n",
       "      <th>753</th>\n",
       "      <td>matlab</td>\n",
       "      <td>Cloud Engineer</td>\n",
       "      <td>1</td>\n",
       "    </tr>\n",
       "    <tr>\n",
       "      <th>411</th>\n",
       "      <td>fastapi</td>\n",
       "      <td>Cloud Engineer</td>\n",
       "      <td>1</td>\n",
       "    </tr>\n",
       "    <tr>\n",
       "      <th>318</th>\n",
       "      <td>delphi</td>\n",
       "      <td>Data Engineer</td>\n",
       "      <td>1</td>\n",
       "    </tr>\n",
       "  </tbody>\n",
       "</table>\n",
       "<p>1689 rows × 3 columns</p>\n",
       "</div>"
      ],
      "text/plain": [
       "     job_skills      job_title_short  skill_count\n",
       "1374        sql        Data Engineer        12993\n",
       "1088     python        Data Engineer        11568\n",
       "1089     python       Data Scientist         9248\n",
       "1327      spark        Data Engineer         7157\n",
       "103         aws        Data Engineer         6993\n",
       "...         ...                  ...          ...\n",
       "389    esquisse       Data Scientist            1\n",
       "887     node.js  Senior Data Analyst            1\n",
       "753      matlab       Cloud Engineer            1\n",
       "411     fastapi       Cloud Engineer            1\n",
       "318      delphi        Data Engineer            1\n",
       "\n",
       "[1689 rows x 3 columns]"
      ]
     },
     "execution_count": 4,
     "metadata": {},
     "output_type": "execute_result"
    }
   ],
   "source": [
    "# Group by job_skills and job_title_short and count the number of occurrences\n",
    "df_skills_count = df_skills.groupby(['job_skills', 'job_title_short']).size()\n",
    "\n",
    "# Name the count column as count\n",
    "df_skills_count = df_skills_count.reset_index(name='skill_count')\n",
    "\n",
    "# Sort the values by skill_count in descending order\n",
    "df_skills_count.sort_values(by='skill_count', ascending=False, inplace=True)\n",
    "\n",
    "df_skills_count"
   ]
  },
  {
   "cell_type": "markdown",
   "metadata": {},
   "source": [
    "## Create List of Top 3 Roles\n",
    "\n",
    "#### Focus: Data Analysts, Data Engineers, and Data Scientists\n",
    "\n",
    "Filter the job titles based on the most popular."
   ]
  },
  {
   "cell_type": "code",
   "execution_count": 5,
   "metadata": {},
   "outputs": [
    {
     "data": {
      "text/plain": [
       "['Data Analyst', 'Data Engineer', 'Data Scientist']"
      ]
     },
     "execution_count": 5,
     "metadata": {},
     "output_type": "execute_result"
    }
   ],
   "source": [
    "job_titles = df_skills_count['job_title_short'].unique().tolist()\n",
    "\n",
    "job_titles = sorted(job_titles[:3])\n",
    "\n",
    "job_titles"
   ]
  },
  {
   "cell_type": "markdown",
   "metadata": {},
   "source": [
    "## Plot Skill Counts"
   ]
  },
  {
   "cell_type": "markdown",
   "metadata": {},
   "source": [
    "Creates a stacked horizontal bar chart for the top 5 skills for Top 3 roles, displaying the frequency of each skill. "
   ]
  },
  {
   "cell_type": "code",
   "execution_count": 11,
   "metadata": {},
   "outputs": [
    {
     "data": {
      "image/png": "[encoded data removed]",
      "text/plain": [
       "<Figure size 640x480 with 3 Axes>"
      ]
     },
     "metadata": {},
     "output_type": "display_data"
    }
   ],
   "source": [
    "fig, ax = plt.subplots(len(job_titles), 1)\n",
    "\n",
    "sns.set_theme(style='ticks')\n",
    "\n",
    "for i, job_title in enumerate(job_titles):\n",
    "    df_plot = df_skills_count[df_skills_count['job_title_short'] == job_title].head(5)[::-1]\n",
    "    sns.barplot(data=df_plot, x='skill_count', y='job_skills', ax=ax[i], hue='skill_count', palette='dark:b_r')\n",
    "    ax[i].set_title(job_title)\n",
    "    ax[i].invert_yaxis()\n",
    "    ax[i].set_ylabel('')\n",
    "    ax[i].set_xlabel('')\n",
    "    ax[i].get_legend().remove()\n",
    "    ax[i].set_xlim(0, 14000) # make the scales the same\n",
    "\n",
    "fig.suptitle('Counts of Skills Requested in IN Job Postings', fontsize=15)\n",
    "fig.tight_layout(h_pad=0.5) # fix the overlap\n",
    "plt.show()"
   ]
  },
  {
   "cell_type": "markdown",
   "metadata": {},
   "source": [
    "## Convert Counts to Percentages\n",
    "\n",
    "#### Focus: Counts don't show what portions of jobs are requesting these skills\n",
    "\n",
    "So we'll convert the counts into percentages which helps us understand how each job title represents relative to the entire dataset. "
   ]
  },
  {
   "cell_type": "markdown",
   "metadata": {},
   "source": [
    "Before we can calculate the percentages we need the total counts for the jobs posted by job title. Calculate the frequency of each job title using the `value_counts()` method on the `job_title_short` column. Then reset the index to transform the Series into a DataFrame and renames the columns to `job_title_short` and `total`. The DataFrame `df_job_title_count` now holds a list of job titles alongside their total occurrences."
   ]
  },
  {
   "cell_type": "code",
   "execution_count": 12,
   "metadata": {},
   "outputs": [
    {
     "data": {
      "text/html": [
       "<div>\n",
       "<style scoped>\n",
       "    .dataframe tbody tr th:only-of-type {\n",
       "        vertical-align: middle;\n",
       "    }\n",
       "\n",
       "    .dataframe tbody tr th {\n",
       "        vertical-align: top;\n",
       "    }\n",
       "\n",
       "    .dataframe thead th {\n",
       "        text-align: right;\n",
       "    }\n",
       "</style>\n",
       "<table border=\"1\" class=\"dataframe\">\n",
       "  <thead>\n",
       "    <tr style=\"text-align: right;\">\n",
       "      <th></th>\n",
       "      <th>job_title_short</th>\n",
       "      <th>jobs_total</th>\n",
       "    </tr>\n",
       "  </thead>\n",
       "  <tbody>\n",
       "    <tr>\n",
       "      <th>0</th>\n",
       "      <td>Data Engineer</td>\n",
       "      <td>19062</td>\n",
       "    </tr>\n",
       "    <tr>\n",
       "      <th>1</th>\n",
       "      <td>Data Scientist</td>\n",
       "      <td>13279</td>\n",
       "    </tr>\n",
       "    <tr>\n",
       "      <th>2</th>\n",
       "      <td>Data Analyst</td>\n",
       "      <td>6121</td>\n",
       "    </tr>\n",
       "    <tr>\n",
       "      <th>3</th>\n",
       "      <td>Senior Data Engineer</td>\n",
       "      <td>4353</td>\n",
       "    </tr>\n",
       "    <tr>\n",
       "      <th>4</th>\n",
       "      <td>Senior Data Scientist</td>\n",
       "      <td>2486</td>\n",
       "    </tr>\n",
       "    <tr>\n",
       "      <th>5</th>\n",
       "      <td>Business Analyst</td>\n",
       "      <td>1887</td>\n",
       "    </tr>\n",
       "    <tr>\n",
       "      <th>6</th>\n",
       "      <td>Software Engineer</td>\n",
       "      <td>1795</td>\n",
       "    </tr>\n",
       "    <tr>\n",
       "      <th>7</th>\n",
       "      <td>Senior Data Analyst</td>\n",
       "      <td>1083</td>\n",
       "    </tr>\n",
       "    <tr>\n",
       "      <th>8</th>\n",
       "      <td>Machine Learning Engineer</td>\n",
       "      <td>671</td>\n",
       "    </tr>\n",
       "    <tr>\n",
       "      <th>9</th>\n",
       "      <td>Cloud Engineer</td>\n",
       "      <td>351</td>\n",
       "    </tr>\n",
       "  </tbody>\n",
       "</table>\n",
       "</div>"
      ],
      "text/plain": [
       "             job_title_short  jobs_total\n",
       "0              Data Engineer       19062\n",
       "1             Data Scientist       13279\n",
       "2               Data Analyst        6121\n",
       "3       Senior Data Engineer        4353\n",
       "4      Senior Data Scientist        2486\n",
       "5           Business Analyst        1887\n",
       "6          Software Engineer        1795\n",
       "7        Senior Data Analyst        1083\n",
       "8  Machine Learning Engineer         671\n",
       "9             Cloud Engineer         351"
      ]
     },
     "execution_count": 12,
     "metadata": {},
     "output_type": "execute_result"
    }
   ],
   "source": [
    "# Use original df to get the count of job titles\n",
    "df_job_title_count = df_IN['job_title_short'].value_counts().reset_index(name='jobs_total')\n",
    "\n",
    "df_job_title_count"
   ]
  },
  {
   "cell_type": "markdown",
   "metadata": {},
   "source": [
    "Then we calculate the percentages. First merge `df_skills_count` and `df_job_title_count`, based on the 'job_title_short' column, ensuring each skill count is associated with the total number of job postings for that title. Then calculate the percentage of each skill within its job title by dividing the skill count by the total job postings and multiplying by 100, adding this new data as a 'percentage' column. "
   ]
  },
  {
   "cell_type": "code",
   "execution_count": 13,
   "metadata": {},
   "outputs": [
    {
     "data": {
      "text/html": [
       "<div>\n",
       "<style scoped>\n",
       "    .dataframe tbody tr th:only-of-type {\n",
       "        vertical-align: middle;\n",
       "    }\n",
       "\n",
       "    .dataframe tbody tr th {\n",
       "        vertical-align: top;\n",
       "    }\n",
       "\n",
       "    .dataframe thead th {\n",
       "        text-align: right;\n",
       "    }\n",
       "</style>\n",
       "<table border=\"1\" class=\"dataframe\">\n",
       "  <thead>\n",
       "    <tr style=\"text-align: right;\">\n",
       "      <th></th>\n",
       "      <th>job_skills</th>\n",
       "      <th>job_title_short</th>\n",
       "      <th>skill_count</th>\n",
       "      <th>jobs_total</th>\n",
       "      <th>skill_percent</th>\n",
       "    </tr>\n",
       "  </thead>\n",
       "  <tbody>\n",
       "    <tr>\n",
       "      <th>0</th>\n",
       "      <td>sql</td>\n",
       "      <td>Data Engineer</td>\n",
       "      <td>12993</td>\n",
       "      <td>19062</td>\n",
       "      <td>68.161788</td>\n",
       "    </tr>\n",
       "    <tr>\n",
       "      <th>1</th>\n",
       "      <td>python</td>\n",
       "      <td>Data Engineer</td>\n",
       "      <td>11568</td>\n",
       "      <td>19062</td>\n",
       "      <td>60.686182</td>\n",
       "    </tr>\n",
       "    <tr>\n",
       "      <th>2</th>\n",
       "      <td>python</td>\n",
       "      <td>Data Scientist</td>\n",
       "      <td>9248</td>\n",
       "      <td>13279</td>\n",
       "      <td>69.643798</td>\n",
       "    </tr>\n",
       "    <tr>\n",
       "      <th>3</th>\n",
       "      <td>spark</td>\n",
       "      <td>Data Engineer</td>\n",
       "      <td>7157</td>\n",
       "      <td>19062</td>\n",
       "      <td>37.545903</td>\n",
       "    </tr>\n",
       "    <tr>\n",
       "      <th>4</th>\n",
       "      <td>aws</td>\n",
       "      <td>Data Engineer</td>\n",
       "      <td>6993</td>\n",
       "      <td>19062</td>\n",
       "      <td>36.685552</td>\n",
       "    </tr>\n",
       "    <tr>\n",
       "      <th>...</th>\n",
       "      <td>...</td>\n",
       "      <td>...</td>\n",
       "      <td>...</td>\n",
       "      <td>...</td>\n",
       "      <td>...</td>\n",
       "    </tr>\n",
       "    <tr>\n",
       "      <th>1684</th>\n",
       "      <td>esquisse</td>\n",
       "      <td>Data Scientist</td>\n",
       "      <td>1</td>\n",
       "      <td>13279</td>\n",
       "      <td>0.007531</td>\n",
       "    </tr>\n",
       "    <tr>\n",
       "      <th>1685</th>\n",
       "      <td>node.js</td>\n",
       "      <td>Senior Data Analyst</td>\n",
       "      <td>1</td>\n",
       "      <td>1083</td>\n",
       "      <td>0.092336</td>\n",
       "    </tr>\n",
       "    <tr>\n",
       "      <th>1686</th>\n",
       "      <td>matlab</td>\n",
       "      <td>Cloud Engineer</td>\n",
       "      <td>1</td>\n",
       "      <td>351</td>\n",
       "      <td>0.284900</td>\n",
       "    </tr>\n",
       "    <tr>\n",
       "      <th>1687</th>\n",
       "      <td>fastapi</td>\n",
       "      <td>Cloud Engineer</td>\n",
       "      <td>1</td>\n",
       "      <td>351</td>\n",
       "      <td>0.284900</td>\n",
       "    </tr>\n",
       "    <tr>\n",
       "      <th>1688</th>\n",
       "      <td>delphi</td>\n",
       "      <td>Data Engineer</td>\n",
       "      <td>1</td>\n",
       "      <td>19062</td>\n",
       "      <td>0.005246</td>\n",
       "    </tr>\n",
       "  </tbody>\n",
       "</table>\n",
       "<p>1689 rows × 5 columns</p>\n",
       "</div>"
      ],
      "text/plain": [
       "     job_skills      job_title_short  skill_count  jobs_total  skill_percent\n",
       "0           sql        Data Engineer        12993       19062      68.161788\n",
       "1        python        Data Engineer        11568       19062      60.686182\n",
       "2        python       Data Scientist         9248       13279      69.643798\n",
       "3         spark        Data Engineer         7157       19062      37.545903\n",
       "4           aws        Data Engineer         6993       19062      36.685552\n",
       "...         ...                  ...          ...         ...            ...\n",
       "1684   esquisse       Data Scientist            1       13279       0.007531\n",
       "1685    node.js  Senior Data Analyst            1        1083       0.092336\n",
       "1686     matlab       Cloud Engineer            1         351       0.284900\n",
       "1687    fastapi       Cloud Engineer            1         351       0.284900\n",
       "1688     delphi        Data Engineer            1       19062       0.005246\n",
       "\n",
       "[1689 rows x 5 columns]"
      ]
     },
     "execution_count": 13,
     "metadata": {},
     "output_type": "execute_result"
    }
   ],
   "source": [
    "df_skills_perc = pd.merge(df_skills_count, df_job_title_count, on='job_title_short', how='left')\n",
    "\n",
    "df_skills_perc['skill_percent'] = (df_skills_perc['skill_count'] / df_skills_perc['jobs_total']) * 100\n",
    "\n",
    "df_skills_perc"
   ]
  },
  {
   "cell_type": "markdown",
   "metadata": {},
   "source": [
    "## Plot Percentage Count"
   ]
  },
  {
   "cell_type": "markdown",
   "metadata": {},
   "source": [
    "Filters and sorts a DataFrame to get the top 5 skills percentages for these top 3 roles. After sorting the skills by descending percentage, reverse the order of these top 5 entries to use in a horizontal bar plot, which by default starts plotting from the bottom."
   ]
  },
  {
   "cell_type": "code",
   "execution_count": 15,
   "metadata": {},
   "outputs": [
    {
     "data": {
      "image/png": "[encoded data removed]",
      "text/plain": [
       "<Figure size 640x480 with 3 Axes>"
      ]
     },
     "metadata": {},
     "output_type": "display_data"
    }
   ],
   "source": [
    "fig, ax = plt.subplots(len(job_titles), 1)\n",
    "\n",
    "\n",
    "for i, job_title in enumerate(job_titles):\n",
    "    df_plot = df_skills_perc[df_skills_perc['job_title_short'] == job_title].head(5)\n",
    "    sns.barplot(data=df_plot, x='skill_percent', y='job_skills', ax=ax[i], hue='skill_count', palette='dark:b_r')\n",
    "    ax[i].set_title(job_title)\n",
    "    ax[i].set_ylabel('')\n",
    "    ax[i].set_xlabel('')\n",
    "    ax[i].get_legend().remove()\n",
    "    ax[i].set_xlim(0, 78)\n",
    "    # remove the x-axis tick labels for better readability\n",
    "    if i != len(job_titles) - 1:\n",
    "        ax[i].set_xticks([])\n",
    "\n",
    "    # label the percentage on the bars\n",
    "    for n, v in enumerate(df_plot['skill_percent']):\n",
    "        ax[i].text(v + 1, n, f'{v:.0f}%', va='center')\n",
    "\n",
    "fig.suptitle('Likelihood of Skills Requested in IN Job Postings', fontsize=15)\n",
    "fig.tight_layout(h_pad=.8)\n",
    "plt.show()"
   ]
  }
 ],
 "metadata": {
  "kernelspec": {
   "display_name": "base",
   "language": "python",
   "name": "python3"
  },
  "language_info": {
   "codemirror_mode": {
    "name": "ipython",
    "version": 3
   },
   "file_extension": ".py",
   "mimetype": "text/x-python",
   "name": "python",
   "nbconvert_exporter": "python",
   "pygments_lexer": "ipython3",
   "version": "3.12.7"
  }
 },
 "nbformat": 4,
 "nbformat_minor": 2
}
